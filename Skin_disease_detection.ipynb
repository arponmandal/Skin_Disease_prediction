{
  "nbformat": 4,
  "nbformat_minor": 0,
  "metadata": {
    "colab": {
      "name": "Skin_disease_detection.ipynb",
      "provenance": [],
      "authorship_tag": "ABX9TyMJmEceIdMK7WLOeDCLxsNv",
      "include_colab_link": true
    },
    "kernelspec": {
      "name": "python3",
      "display_name": "Python 3"
    },
    "language_info": {
      "name": "python"
    },
    "accelerator": "GPU"
  },
  "cells": [
    {
      "cell_type": "markdown",
      "metadata": {
        "id": "view-in-github",
        "colab_type": "text"
      },
      "source": [
        "<a href=\"https://colab.research.google.com/github/arponmandal/Skin_Disease_prediction/blob/main/Skin_disease_detection.ipynb\" target=\"_parent\"><img src=\"https://colab.research.google.com/assets/colab-badge.svg\" alt=\"Open In Colab\"/></a>"
      ]
    },
    {
      "cell_type": "code",
      "execution_count": 1,
      "metadata": {
        "id": "gbxn8NvGvSrY"
      },
      "outputs": [],
      "source": [
        "from keras.models import Sequential\n",
        "from keras.layers import Convolution2D\n",
        "from keras.layers import MaxPooling2D\n",
        "from keras.layers import Flatten\n",
        "from tensorflow.keras.preprocessing.image import ImageDataGenerator\n",
        "from keras.layers import Dense,Dropout\n",
        "from tensorflow.keras.callbacks import ReduceLROnPlateau, ModelCheckpoint, EarlyStopping\n",
        "import warnings\n",
        "warnings.filterwarnings(\"ignore\")\n",
        "#from tensorflow.keras.callbacks import ReduceLROnPlateau, ModelCheckpoint, EarlyStopping\n",
        "from tensorflow.keras.optimizers import Adam ,RMSprop\n",
        "import matplotlib.pyplot as plt\n",
        "from tensorflow.keras.applications.vgg16 import VGG16"
      ]
    },
    {
      "cell_type": "code",
      "source": [
        "from google.colab import drive\n",
        "drive.mount('/content/drive')\n"
      ],
      "metadata": {
        "colab": {
          "base_uri": "https://localhost:8080/"
        },
        "id": "5OCahHqBFLb9",
        "outputId": "5ff51d18-2855-4908-878e-365e45717c73"
      },
      "execution_count": 2,
      "outputs": [
        {
          "output_type": "stream",
          "name": "stdout",
          "text": [
            "Mounted at /content/drive\n"
          ]
        }
      ]
    },
    {
      "cell_type": "code",
      "source": [
        "image_width, image_height = 224,224\n",
        "\n",
        "train_datagen = ImageDataGenerator(\n",
        "      rescale=1./255,\n",
        "      rotation_range=20,\n",
        "      shear_range=0.2,\n",
        "      zoom_range=0.2,\n",
        "      width_shift_range=0.3,\n",
        "      height_shift_range=0.3,\n",
        "      horizontal_flip=True,\n",
        "      fill_mode='nearest')\n",
        "\n",
        "test_datagen = ImageDataGenerator(rescale = 1./255.)\n",
        "\n",
        "train_generator = train_datagen.flow_from_directory(\n",
        "                    \"/content/drive/MyDrive/skin_disease23_dataset/train\",\n",
        "                    batch_size=128,\n",
        "                    class_mode='categorical',\n",
        "                    shuffle=True,\n",
        "                    target_size=(image_width, image_height)\n",
        ")     \n",
        "\n",
        "test_generator =  test_datagen.flow_from_directory(\n",
        "                    \"/content/drive/MyDrive/skin_disease23_dataset/test\",\n",
        "                    batch_size=128,\n",
        "                    class_mode='categorical',\n",
        "                    shuffle=True,\n",
        "                    target_size=(image_width, image_height)\n",
        ")"
      ],
      "metadata": {
        "id": "uRZKx3TTBht5",
        "colab": {
          "base_uri": "https://localhost:8080/"
        },
        "outputId": "8f510af0-3d48-4a5f-ddb4-e42aa7817deb"
      },
      "execution_count": 3,
      "outputs": [
        {
          "output_type": "stream",
          "name": "stdout",
          "text": [
            "Found 1303 images belonging to 2 classes.\n",
            "Found 430 images belonging to 2 classes.\n"
          ]
        }
      ]
    },
    {
      "cell_type": "code",
      "source": [
        "train_steps = train_generator.n // train_generator.batch_size\n",
        "\n",
        "print(train_steps)"
      ],
      "metadata": {
        "id": "O7nw-WY0BpxN",
        "colab": {
          "base_uri": "https://localhost:8080/"
        },
        "outputId": "5825eced-4762-428c-aef3-cf5a3282ff67"
      },
      "execution_count": 4,
      "outputs": [
        {
          "output_type": "stream",
          "name": "stdout",
          "text": [
            "10\n"
          ]
        }
      ]
    },
    {
      "cell_type": "code",
      "source": [
        "test_steps = test_generator.n // test_generator.batch_size\n",
        "\n",
        "print(test_steps)\n"
      ],
      "metadata": {
        "id": "FnfgB55CBvUs",
        "colab": {
          "base_uri": "https://localhost:8080/"
        },
        "outputId": "debb95e7-f555-4d37-a415-33e1a079ada3"
      },
      "execution_count": 5,
      "outputs": [
        {
          "output_type": "stream",
          "name": "stdout",
          "text": [
            "3\n"
          ]
        }
      ]
    },
    {
      "cell_type": "code",
      "source": [
        "vvg = VGG16(input_shape=(224,224, 3), include_top=False,weights = 'imagenet')"
      ],
      "metadata": {
        "id": "MtF6hSM7CRvu",
        "colab": {
          "base_uri": "https://localhost:8080/"
        },
        "outputId": "8a82009e-6064-45b7-8497-7cda970f851f"
      },
      "execution_count": 6,
      "outputs": [
        {
          "output_type": "stream",
          "name": "stdout",
          "text": [
            "Downloading data from https://storage.googleapis.com/tensorflow/keras-applications/vgg16/vgg16_weights_tf_dim_ordering_tf_kernels_notop.h5\n",
            "58892288/58889256 [==============================] - 0s 0us/step\n",
            "58900480/58889256 [==============================] - 0s 0us/step\n"
          ]
        }
      ]
    },
    {
      "cell_type": "code",
      "source": [
        "vvg.summary()"
      ],
      "metadata": {
        "id": "zbqVR3odCSv1",
        "colab": {
          "base_uri": "https://localhost:8080/"
        },
        "outputId": "5c080714-2efb-4abb-fc0b-7b64c3b9e66f"
      },
      "execution_count": 7,
      "outputs": [
        {
          "output_type": "stream",
          "name": "stdout",
          "text": [
            "Model: \"vgg16\"\n",
            "_________________________________________________________________\n",
            " Layer (type)                Output Shape              Param #   \n",
            "=================================================================\n",
            " input_1 (InputLayer)        [(None, 224, 224, 3)]     0         \n",
            "                                                                 \n",
            " block1_conv1 (Conv2D)       (None, 224, 224, 64)      1792      \n",
            "                                                                 \n",
            " block1_conv2 (Conv2D)       (None, 224, 224, 64)      36928     \n",
            "                                                                 \n",
            " block1_pool (MaxPooling2D)  (None, 112, 112, 64)      0         \n",
            "                                                                 \n",
            " block2_conv1 (Conv2D)       (None, 112, 112, 128)     73856     \n",
            "                                                                 \n",
            " block2_conv2 (Conv2D)       (None, 112, 112, 128)     147584    \n",
            "                                                                 \n",
            " block2_pool (MaxPooling2D)  (None, 56, 56, 128)       0         \n",
            "                                                                 \n",
            " block3_conv1 (Conv2D)       (None, 56, 56, 256)       295168    \n",
            "                                                                 \n",
            " block3_conv2 (Conv2D)       (None, 56, 56, 256)       590080    \n",
            "                                                                 \n",
            " block3_conv3 (Conv2D)       (None, 56, 56, 256)       590080    \n",
            "                                                                 \n",
            " block3_pool (MaxPooling2D)  (None, 28, 28, 256)       0         \n",
            "                                                                 \n",
            " block4_conv1 (Conv2D)       (None, 28, 28, 512)       1180160   \n",
            "                                                                 \n",
            " block4_conv2 (Conv2D)       (None, 28, 28, 512)       2359808   \n",
            "                                                                 \n",
            " block4_conv3 (Conv2D)       (None, 28, 28, 512)       2359808   \n",
            "                                                                 \n",
            " block4_pool (MaxPooling2D)  (None, 14, 14, 512)       0         \n",
            "                                                                 \n",
            " block5_conv1 (Conv2D)       (None, 14, 14, 512)       2359808   \n",
            "                                                                 \n",
            " block5_conv2 (Conv2D)       (None, 14, 14, 512)       2359808   \n",
            "                                                                 \n",
            " block5_conv3 (Conv2D)       (None, 14, 14, 512)       2359808   \n",
            "                                                                 \n",
            " block5_pool (MaxPooling2D)  (None, 7, 7, 512)         0         \n",
            "                                                                 \n",
            "=================================================================\n",
            "Total params: 14,714,688\n",
            "Trainable params: 14,714,688\n",
            "Non-trainable params: 0\n",
            "_________________________________________________________________\n"
          ]
        }
      ]
    },
    {
      "cell_type": "code",
      "source": [
        "for layers in (vvg.layers):\n",
        "    layers.trainable = False"
      ],
      "metadata": {
        "id": "vNfJfKJ5CV5B"
      },
      "execution_count": 8,
      "outputs": []
    },
    {
      "cell_type": "code",
      "source": [
        "model2 = Sequential()\n",
        "\n",
        "# Add the vvg convolutional base model\n",
        "model2.add(vvg)\n",
        "\n",
        "# Add new layers\n",
        "model2.add(Flatten())\n",
        "model2.add(Dense(4096 , activation='relu'))\n",
        "model2.add(Dropout(0.5))\n",
        "model2.add(Dense(4096 , activation='relu'))\n",
        "model2.add(Dropout(0.3))\n",
        "model2.add(Dense(4096, activation='relu'))\n",
        "model2.add(Dropout(0.4))\n",
        "model2.add(Dense(2, activation='softmax'))\n",
        "\n",
        "model2.summary()\n"
      ],
      "metadata": {
        "id": "o-GrQyhOCZ2U",
        "colab": {
          "base_uri": "https://localhost:8080/"
        },
        "outputId": "dae50c22-4288-4fc0-b656-df14a9afc4d8"
      },
      "execution_count": 9,
      "outputs": [
        {
          "output_type": "stream",
          "name": "stdout",
          "text": [
            "Model: \"sequential\"\n",
            "_________________________________________________________________\n",
            " Layer (type)                Output Shape              Param #   \n",
            "=================================================================\n",
            " vgg16 (Functional)          (None, 7, 7, 512)         14714688  \n",
            "                                                                 \n",
            " flatten (Flatten)           (None, 25088)             0         \n",
            "                                                                 \n",
            " dense (Dense)               (None, 4096)              102764544 \n",
            "                                                                 \n",
            " dropout (Dropout)           (None, 4096)              0         \n",
            "                                                                 \n",
            " dense_1 (Dense)             (None, 4096)              16781312  \n",
            "                                                                 \n",
            " dropout_1 (Dropout)         (None, 4096)              0         \n",
            "                                                                 \n",
            " dense_2 (Dense)             (None, 4096)              16781312  \n",
            "                                                                 \n",
            " dropout_2 (Dropout)         (None, 4096)              0         \n",
            "                                                                 \n",
            " dense_3 (Dense)             (None, 2)                 8194      \n",
            "                                                                 \n",
            "=================================================================\n",
            "Total params: 151,050,050\n",
            "Trainable params: 136,335,362\n",
            "Non-trainable params: 14,714,688\n",
            "_________________________________________________________________\n"
          ]
        }
      ]
    },
    {
      "cell_type": "code",
      "source": [
        "lr = 1e-4\n",
        "model2.compile(loss='categorical_crossentropy', optimizer=Adam(lr), metrics=['accuracy'])"
      ],
      "metadata": {
        "id": "-VCR5RQ9ChAv"
      },
      "execution_count": 10,
      "outputs": []
    },
    {
      "cell_type": "code",
      "source": [
        "mcp2 = ModelCheckpoint('modelVVG.h5', verbose=1)"
      ],
      "metadata": {
        "id": "MYYFQ9fvC1l0"
      },
      "execution_count": 11,
      "outputs": []
    },
    {
      "cell_type": "code",
      "source": [
        "es2 = EarlyStopping(patience=2,verbose=1)"
      ],
      "metadata": {
        "id": "4fsfrY-BC4_P"
      },
      "execution_count": 12,
      "outputs": []
    },
    {
      "cell_type": "code",
      "source": [
        "history = model2.fit(train_generator,steps_per_epoch=train_steps,epochs=30,validation_data=test_generator,validation_steps=test_steps,verbose=1,callbacks=[mcp2,es2])\n"
      ],
      "metadata": {
        "id": "NSwt-U0zC7ic",
        "colab": {
          "base_uri": "https://localhost:8080/"
        },
        "outputId": "df65d11b-6e5e-4709-c1da-6f918ba5e5b0"
      },
      "execution_count": 13,
      "outputs": [
        {
          "output_type": "stream",
          "name": "stdout",
          "text": [
            "Epoch 1/30\n",
            "10/10 [==============================] - ETA: 0s - loss: 1.1733 - accuracy: 0.5634 \n",
            "Epoch 1: saving model to modelVVG.h5\n",
            "10/10 [==============================] - 302s 30s/step - loss: 1.1733 - accuracy: 0.5634 - val_loss: 0.5667 - val_accuracy: 0.7266\n",
            "Epoch 2/30\n",
            "10/10 [==============================] - ETA: 0s - loss: 0.7444 - accuracy: 0.5847\n",
            "Epoch 2: saving model to modelVVG.h5\n",
            "10/10 [==============================] - 33s 3s/step - loss: 0.7444 - accuracy: 0.5847 - val_loss: 0.5422 - val_accuracy: 0.7240\n",
            "Epoch 3/30\n",
            "10/10 [==============================] - ETA: 0s - loss: 0.6595 - accuracy: 0.6400\n",
            "Epoch 3: saving model to modelVVG.h5\n",
            "10/10 [==============================] - 33s 3s/step - loss: 0.6595 - accuracy: 0.6400 - val_loss: 0.5480 - val_accuracy: 0.7891\n",
            "Epoch 4/30\n",
            "10/10 [==============================] - ETA: 0s - loss: 0.5940 - accuracy: 0.6826\n",
            "Epoch 4: saving model to modelVVG.h5\n",
            "10/10 [==============================] - 34s 3s/step - loss: 0.5940 - accuracy: 0.6826 - val_loss: 0.5039 - val_accuracy: 0.7448\n",
            "Epoch 5/30\n",
            "10/10 [==============================] - ETA: 0s - loss: 0.6230 - accuracy: 0.6681\n",
            "Epoch 5: saving model to modelVVG.h5\n",
            "10/10 [==============================] - 33s 3s/step - loss: 0.6230 - accuracy: 0.6681 - val_loss: 0.4502 - val_accuracy: 0.7734\n",
            "Epoch 6/30\n",
            "10/10 [==============================] - ETA: 0s - loss: 0.5716 - accuracy: 0.7089\n",
            "Epoch 6: saving model to modelVVG.h5\n",
            "10/10 [==============================] - 33s 4s/step - loss: 0.5716 - accuracy: 0.7089 - val_loss: 0.4291 - val_accuracy: 0.8359\n",
            "Epoch 7/30\n",
            "10/10 [==============================] - ETA: 0s - loss: 0.5769 - accuracy: 0.7030\n",
            "Epoch 7: saving model to modelVVG.h5\n",
            "10/10 [==============================] - 33s 3s/step - loss: 0.5769 - accuracy: 0.7030 - val_loss: 0.4040 - val_accuracy: 0.8516\n",
            "Epoch 8/30\n",
            "10/10 [==============================] - ETA: 0s - loss: 0.6119 - accuracy: 0.6826\n",
            "Epoch 8: saving model to modelVVG.h5\n",
            "10/10 [==============================] - 33s 3s/step - loss: 0.6119 - accuracy: 0.6826 - val_loss: 0.5300 - val_accuracy: 0.7526\n",
            "Epoch 9/30\n",
            "10/10 [==============================] - ETA: 0s - loss: 0.5963 - accuracy: 0.6868\n",
            "Epoch 9: saving model to modelVVG.h5\n",
            "10/10 [==============================] - 33s 4s/step - loss: 0.5963 - accuracy: 0.6868 - val_loss: 0.4359 - val_accuracy: 0.8464\n",
            "Epoch 9: early stopping\n"
          ]
        }
      ]
    },
    {
      "cell_type": "code",
      "source": [
        "model2.evaluate(test_generator, verbose=1, steps=test_steps)"
      ],
      "metadata": {
        "id": "-vE-veqlDCSP",
        "colab": {
          "base_uri": "https://localhost:8080/"
        },
        "outputId": "fb3f19c8-01e6-4c70-f060-4e617dc5b45c"
      },
      "execution_count": 14,
      "outputs": [
        {
          "output_type": "stream",
          "name": "stdout",
          "text": [
            "3/3 [==============================] - 5s 2s/step - loss: 0.4441 - accuracy: 0.8359\n"
          ]
        },
        {
          "output_type": "execute_result",
          "data": {
            "text/plain": [
              "[0.4441152513027191, 0.8359375]"
            ]
          },
          "metadata": {},
          "execution_count": 14
        }
      ]
    },
    {
      "cell_type": "code",
      "source": [
        "import matplotlib.pyplot as plt\n",
        "\n",
        "accuracy      = history.history['accuracy']\n",
        "val_accuracy  = history.history['val_accuracy']\n",
        "loss     = history.history['loss']\n",
        "val_loss = history.history['val_loss']\n",
        "\n",
        "epochs   = range(len(accuracy))\n",
        "\n",
        "plt.plot(epochs, accuracy)\n",
        "plt.plot(epochs, val_accuracy)\n",
        "plt.title('Training and validation accuracy')\n",
        "plt.figure()\n",
        "\n",
        "# Plot training and validation loss per epoch\n",
        "plt.plot(epochs, loss)\n",
        "plt.plot(epochs, val_loss)\n",
        "plt.title('Training and validation loss')"
      ],
      "metadata": {
        "id": "b4Jg9m1NDGkZ",
        "colab": {
          "base_uri": "https://localhost:8080/",
          "height": 563
        },
        "outputId": "abf1a5c5-dbda-4177-d429-8b2ad62fc54e"
      },
      "execution_count": 15,
      "outputs": [
        {
          "output_type": "execute_result",
          "data": {
            "text/plain": [
              "Text(0.5, 1.0, 'Training and validation loss')"
            ]
          },
          "metadata": {},
          "execution_count": 15
        },
        {
          "output_type": "display_data",
          "data": {
            "text/plain": [
              "<Figure size 432x288 with 1 Axes>"
            ],
            "image/png": "[encoded data removed]"
          },
          "metadata": {
            "needs_background": "light"
          }
        },
        {
          "output_type": "display_data",
          "data": {
            "text/plain": [
              "<Figure size 432x288 with 1 Axes>"
            ],
            "image/png": "[encoded data removed]"
          },
          "metadata": {
            "needs_background": "light"
          }
        }
      ]
    },
    {
      "cell_type": "code",
      "source": [
        "import numpy as np\n",
        "from tensorflow.keras.preprocessing import image\n",
        "from tensorflow.keras.models import load_model\n",
        "\n",
        "image_width, image_height = 224,224\n",
        "\n",
        "img = image.load_img('/content/drive/MyDrive/skin_disease23_dataset/test/Acne and Rosacea Photos/acne-cystic-61 (1).jpg', target_size=(image_width, image_height))\n",
        "img = image.img_to_array(img)\n",
        "img = np.expand_dims(img, axis = 0)\n",
        "img/= 255.\n",
        "model = load_model('modelVVG.h5')\n",
        "result = model.predict(img)\n",
        "train_generator.class_indices\n",
        "if result[0][0] == 0:\n",
        "    prediction = 'melanoma'\n",
        "else:\n",
        "    prediction = 'acne'\n",
        "print(prediction)"
      ],
      "metadata": {
        "id": "jIv_sxkSDNMZ",
        "colab": {
          "base_uri": "https://localhost:8080/"
        },
        "outputId": "0a6e7f4e-fb97-462a-8b8d-567671ce982a"
      },
      "execution_count": 16,
      "outputs": [
        {
          "output_type": "stream",
          "name": "stdout",
          "text": [
            "acne\n"
          ]
        }
      ]
    },
    {
      "cell_type": "code",
      "source": [
        "model.save('modelVVG.h5')"
      ],
      "metadata": {
        "id": "_NKb2WTtDYH1"
      },
      "execution_count": 17,
      "outputs": []
    }
  ]
}